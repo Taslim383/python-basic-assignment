{
 "cells": [
  {
   "cell_type": "code",
   "execution_count": 140,
   "id": "0f11f13d-f124-47e1-94ec-f8193b6bf486",
   "metadata": {},
   "outputs": [
    {
     "name": "stdout",
     "output_type": "stream",
     "text": [
      "[99, 2, 3]\n"
     ]
    },
    {
     "ename": "TypeError",
     "evalue": "'str' object does not support item assignment",
     "output_type": "error",
     "traceback": [
      "\u001b[1;31m---------------------------------------------------------------------------\u001b[0m",
      "\u001b[1;31mTypeError\u001b[0m                                 Traceback (most recent call last)",
      "Cell \u001b[1;32mIn[140], line 35\u001b[0m\n\u001b[0;32m     33\u001b[0m \u001b[38;5;124;03m''' Immutable Example: str '''\u001b[39;00m\n\u001b[0;32m     34\u001b[0m my_str \u001b[38;5;241m=\u001b[39m \u001b[38;5;124m\"\u001b[39m\u001b[38;5;124mhello\u001b[39m\u001b[38;5;124m\"\u001b[39m\n\u001b[1;32m---> 35\u001b[0m my_str[\u001b[38;5;241m0\u001b[39m] \u001b[38;5;241m=\u001b[39m \u001b[38;5;124m'\u001b[39m\u001b[38;5;124mH\u001b[39m\u001b[38;5;124m'\u001b[39m \n\u001b[0;32m     36\u001b[0m  \u001b[38;5;66;03m# Error: strings are immutable\u001b[39;00m\n\u001b[0;32m     37\u001b[0m \n\u001b[0;32m     38\u001b[0m \u001b[38;5;66;03m#3 What are the main differences between lists and tuples in Python\u001b[39;00m\n\u001b[0;32m     39\u001b[0m \u001b[38;5;124;03m'''In Python, lists and tuples are both used to store collections of items, but they differ mainly in terms of mutability, syntax, and usage.\u001b[39;00m\n\u001b[0;32m     40\u001b[0m \u001b[38;5;124;03mA list is a mutable data structure, which means its elements can be changed, added, or removed after the list is created.\u001b[39;00m\n\u001b[0;32m     41\u001b[0m \u001b[38;5;124;03mLists are defined using square brackets [] and are more flexible, making them ideal for storing data that may need to be modified during the program.\u001b[39;00m\n\u001b[0;32m     42\u001b[0m \u001b[38;5;124;03mOn the other hand, a tuple is immutable, meaning once it is created, its elements cannot be changed. Tuples are defined using parentheses (), and since they are fixed, they are often used for data that should remain constant throughout the program.\u001b[39;00m\n\u001b[0;32m     43\u001b[0m \u001b[38;5;124;03mAdditionally, tuples are generally faster and use slightly less memory compared to lists. Another key difference is that tuples can be used as keys in dictionaries (if all their elements are also immutable), whereas lists cannot.\u001b[39;00m\n\u001b[0;32m     44\u001b[0m \u001b[38;5;124;03mOverall, use lists when you need a dynamic collection and tuples when you want to ensure the data remains unchanged.'''\u001b[39;00m\n",
      "\u001b[1;31mTypeError\u001b[0m: 'str' object does not support item assignment"
     ]
    }
   ],
   "source": [
    "#THEORY QUESTIONS\n",
    "\n",
    "\n",
    "#1 What are data structures, and why are they important\n",
    "'''\n",
    "Data Structures are ways of organizing and storing data so that they can be accessed and worked with efficiently.\n",
    "\n",
    "Data structures are important because of some of the following reason,\n",
    "1. Efficient Data Access & Modification\n",
    "2. Better Algorithm Performance\n",
    "3. Memory Management\n",
    "4. Code Readability & Maintainability\n",
    "'''\n",
    "\n",
    "#2 Explain the difference between mutable and immutable data types with examples\n",
    "'''\n",
    "In programming, mutable and immutable refer to whether an object’s value can be changed after it is created. \n",
    "Mutable data types allow modifications — meaning you can change, add, or remove elements without creating a new object. \n",
    "Common examples include lists, dictionaries, and sets in Python.\n",
    "For instance, if you have a list of numbers, you can update an element or append a new one, and the same list will reflect the changes. \n",
    "On the other hand, immutable data types do not allow any change after creation. Examples include integers, floats, strings, and tuples. \n",
    "If we try to modify an immutable object, Python will instead create a new object. \n",
    "For example, changing a character in a string isn’t allowed directly; instead, you need to build a new string with the desired change. \n",
    "Understanding the difference is important because it affects how data behaves in memory, how efficiently programs run, and whether data can be safely used in certain contexts like dictionary keys or multi-threaded applications.\n",
    "examples:\n",
    "Mutable Example: list\n",
    "\n",
    "'''\n",
    "my_list = [1, 2, 3]\n",
    "my_list[0] = 99 \n",
    "print(my_list)   \n",
    "# Output: [99, 2, 3]\n",
    "''' Immutable Example: str '''\n",
    "my_str = \"hello\"\n",
    "my_str[0] = 'H' \n",
    " # Error: strings are immutable\n",
    "\n",
    "#3 What are the main differences between lists and tuples in Python\n",
    "'''In Python, lists and tuples are both used to store collections of items, but they differ mainly in terms of mutability, syntax, and usage.\n",
    "A list is a mutable data structure, which means its elements can be changed, added, or removed after the list is created.\n",
    "Lists are defined using square brackets [] and are more flexible, making them ideal for storing data that may need to be modified during the program.\n",
    "On the other hand, a tuple is immutable, meaning once it is created, its elements cannot be changed. Tuples are defined using parentheses (), and since they are fixed, they are often used for data that should remain constant throughout the program.\n",
    "Additionally, tuples are generally faster and use slightly less memory compared to lists. Another key difference is that tuples can be used as keys in dictionaries (if all their elements are also immutable), whereas lists cannot.\n",
    "Overall, use lists when you need a dynamic collection and tuples when you want to ensure the data remains unchanged.'''\n",
    "\n",
    "#4  Describe how dictionaries store data\n",
    "''' In Python, a dictionary stores data in the form of key-value pairs.Each value is accessed using its unique key, rather than by index (like in lists or tuples).\n",
    "Dictionaries are defined using curly braces {} with the format:'''\n",
    "student = {\n",
    "    \"name\": \"Amit\",\n",
    "    \"age\": 21,\n",
    "    \"course\": \"Data Analytics\"\n",
    "}\n",
    "print(student[\"name\"])  # Output: Amit\n",
    "\n",
    "#5 Why might you use a set instead of a list in Python\n",
    "\n",
    "'''\n",
    "We might use a set instead of a list in Python when you need to store unique items and don’t care about the order of elements.\n",
    "'''\n",
    "#6 What is a string in Python, and how is it different from a list\n",
    "\n",
    "'''In Python, a string is a sequence of characters used to represent textual data, such as names, messages, or sentences. Strings are enclosed in quotes—either single ('), double (\"), or triple quotes (''' or \"\"\")—and are immutable, meaning their contents cannot be changed after creation. On the other hand, a list is a collection of items that can include any data type such as numbers, strings, or even other lists. Lists are defined using square brackets ([]) and are mutable, which means their elements can be changed, added, or removed. While both strings and lists are ordered and allow indexing and slicing, the key differences lie in their mutability and the type of data they hold. Strings are limited to characters and are fixed once created, whereas lists are more flexible and can be updated or modified as needed.\"\"\"\n",
    "#7  How do tuples ensure data integrity in Python\n",
    "''' In Python, tuples ensure data integrity by being immutable, which means once a tuple is created, its contents cannot be changed. This immutability is what makes tuples ideal for storing data that must remain constant and unaltered throughout the program.'''\n",
    "#8 What is a hash table, and how does it relate to dictionaries in Python\n",
    "''' A hash table is a data structure that allows for efficient key-value pair storage and lookup operations. It works by using a hash function to compute an index (called a hash code) where the value associated with a key will be stored. The key is then used to retrieve the corresponding value quickly. This approach provides constant time complexity (O(1)) for most operations like inserting, deleting, and searching for values, which makes hash tables very efficient for large datasets.\n",
    "In Python, dictionaries are implemented using hash tables. When you create a dictionary and add key-value pairs to it, Python internally uses a hash table to store these pairs. Here's how it works:\n",
    "1. Hashing the Key: When you insert a key-value pair into a dictionary, Python applies a hash function to the key to compute a hash code. This hash code determines where the key-value pair will be stored in memory.\n",
    "2. Efficient Lookup: When you access a value using a key, Python applies the hash function again to the key to compute its hash code, and then directly retrieves the value stored at that location in memory, making lookups very fast.\n",
    "3. Handling Collisions: Sometimes, two keys might produce the same hash code (a collision). Python handles this using techniques like chaining (storing multiple values at the same index) or open addressing (finding another open spot for the new value).'''\n",
    "\n",
    "#9 Can lists contain different data types in Python\n",
    "''' Yes, lists in Python can contain different data types. A list is an ordered collection that can hold any type of object, including integers, strings, floats, booleans, other lists, tuples, dictionaries, and even functions or custom objects. This makes lists extremely flexible for storing heterogeneous data.\n",
    "example: '''\n",
    "my_list = [42, \"hello\", 3.14, True, [1, 2, 3]]\n",
    "print(my_list)\n",
    "# Output: [42, 'hello', 3.14, True, [1, 2, 3]]\n",
    "#10  Explain why strings are immutable in Python\n",
    "''' Strings in Python are immutable, meaning their contents cannot be changed after creation. This design choice ensures memory efficiency, as Python can optimize string storage by reusing identical string objects. It also allows strings to be used as keys in dictionaries and elements in sets since their hash value remains constant. Immutability enhances security by preventing accidental modification of string data, simplifies debugging by ensuring that string values remain consistent, and improves performance by allowing for memory optimizations like string interning. Overall, the immutability of strings ensures reliability, efficiency, and safety in Python programs.'''\n",
    "#11 What advantages do dictionaries offer over lists for certain tasks\n",
    "''' Dictionaries offer several advantages over lists, including faster lookups (O(1) time complexity) using unique keys, whereas lists require searching by value (O(n)). They store data in key-value pairs, ensuring data integrity by preventing duplicates. Dictionaries allow direct access to values via keys, making them more intuitive for tasks involving mapping relationships (e.g., user IDs to names). They also support efficient data management when dealing with structured data and allow for flexible storage of various data types. Overall, dictionaries are ideal for tasks requiring quick, unique key-based access and efficient data manipulation.'''\n",
    "#12  Describe a scenario where using a tuple would be preferable over a list\n",
    "''' Using a tuple would be preferable over a list in a scenario where the data should remain constant and unchangeable. For example, when representing geographical coordinates (latitude, longitude), you would use a tuple since the values should not change once set. A tuple ensures data integrity and allows the coordinates to be used as keys in dictionaries or elements in sets, unlike a list. Here's an example:'''\n",
    "coordinates = (40.7128, -74.0060)\n",
    "#13 How do sets handle duplicate values in Python.\n",
    "''' In Python, sets automatically handle duplicate values by only allowing unique elements. When you attempt to add a duplicate item to a set, it will simply be ignored, and the set will not store the duplicate value. This behavior ensures that sets always contain only distinct values.\n",
    "Example:\n",
    "'''\n",
    "my_set = {1, 2, 3}\n",
    "my_set.add(3)  # Attempting to add a duplicate value\n",
    "print(my_set)  # Output: {1, 2, 3}\n",
    "\n",
    "#14 How does the “in” keyword work differently for lists and dictionaries\n",
    "''' in Python, the in keyword checks for values in lists and keys in dictionaries. For lists, it checks if a specific value is present, while for dictionaries, it checks if a specific key exists. To check for values in a dictionary, you can use .values().\n",
    "\n",
    "Example:\n",
    "List: 3 in [1, 2, 3, 4] checks if 3 is in the list.'''\n",
    "my_list = [1, 2, 3, 4]\n",
    "print(3 in my_list)  # Output: True\n",
    "print(5 in my_list)  # Output: False\n",
    "\n",
    "'''Dictionary: \"a\" in {\"a\": 1, \"b\": 2, \"c\": 3} checks if \"a\" is a key in the dictionary.'''\n",
    "my_dict = {\"a\": 1, \"b\": 2, \"c\": 3}\n",
    "print(\"a\" in my_dict)  # Output: True\n",
    "print(1 in my_dict)    # Output: False (checks for the key \"1\", not the value)\n",
    "\n",
    "#15 Can you modify the elements of a tuple? Explain why or why not\n",
    "''' No, we cannot modify the elements of a tuple in Python because tuples are immutable. Once a tuple is created, its contents cannot be changed, added, or removed. This immutability is a core characteristic of tuples, which ensures that the data they hold remains constant and unchanged throughout the program.'''\n",
    "#16 What is a nested dictionary, and give an example of its use case\n",
    "''' A nested dictionary in Python is a dictionary where one or more of its values are themselves dictionaries. This allows for the representation of complex data structures, where each key can map to another dictionary, creating a hierarchy of data.'''\n",
    "\n",
    "students = {\n",
    "    \"Alice\": {\"age\": 20, \"major\": \"Computer Science\", \"grades\": {\"math\": \"A\", \"english\": \"B\"}},\n",
    "    \"Bob\": {\"age\": 22, \"major\": \"Mathematics\", \"grades\": {\"math\": \"B\", \"english\": \"A\"}},\n",
    "}\n",
    "'''Use Case:\n",
    "A nested dictionary is useful when you need to store structured data. \n",
    "For instance, in the above example, we use a nested dictionary to represent student information, where each student's data includes their age, major, and grades in different subjects. \n",
    "This makes it easy to organize and access specific details:\n",
    "\n",
    "Accessing Alice's math grade:\n",
    "students[\"Alice\"][\"grades\"][\"math\"] → \"A\"   '''\n",
    "#17  Describe the time complexity of accessing elements in a dictionary\n",
    "''' The time complexity of accessing elements in a Python dictionary is O(1) on average, thanks to its underlying hash table implementation. When a key is used to access a value, Python hashes the key and directly retrieves the value at the corresponding index, ensuring constant-time lookups. However, in rare cases of hash collisions, the time complexity could degrade to O(n), where n is the number of elements, though this is uncommon due to Python's efficient collision handling.'''\n",
    "#18 In what situations are lists preferred over dictionaries\n",
    "'''Lists are preferred over dictionaries in situations where you need to store an ordered collection of items or when the elements don't need to be associated with unique keys. Lists are ideal when:\n",
    "1. Order matters: Lists maintain the order of elements, so if you need to preserve the sequence in which items are added, a list is the right choice.\n",
    "2. Index-based access: If you need to access elements by their position (index), lists are better since they allow direct access by index.\n",
    "3. Simple collections: Lists are preferred when you have a collection of items of the same type (like a list of numbers or strings) and don’t need to associate each element with a key.\n",
    "4. When duplicates are allowed: Lists can store duplicate values, making them suitable when you need to allow repeated elements.'''\n",
    "\n",
    "#19 Why are dictionaries considered unordered, and how does that affect data retrieval\n",
    "''' Dictionaries were once unordered, but since Python 3.7, they preserve insertion order. However, they are still accessed by keys, not by index like lists. This means while the order of items is now maintained, dictionaries are optimized for fast key-based lookups (O(1)), not for positional access or ordering purposes. \n",
    "How it affects data retrieval:\n",
    "Access by key is always fast (average time complexity O(1)).\n",
    "Access by position/index is not possible like in a list, since dictionaries are not indexed numerically.\n",
    "If order is important (e.g., for displaying data), and you're using Python 3.7 or later, you can rely on the insertion order.\n",
    "'''\n",
    "#20 Explain the difference between a list and a dictionary in terms of data retrieval\n",
    "\n",
    "''' The main difference between a list and a dictionary in terms of data retrieval is how you access elements:\n",
    "\n",
    "In a list, data is retrieved using numeric indexes. You access items by their position, like my_list[0] to get the first item.\n",
    "\n",
    "In a dictionary, data is retrieved using keys. Each value is associated with a unique key, so you access it like my_dict[\"name\"].'''\n",
    "\n",
    "my_list = [\"apple\", \"banana\"]\n",
    "print(my_list[1])  # Output: banana\n",
    "\n",
    "my_dict = {\"fruit1\": \"apple\", \"fruit2\": \"banana\"}\n",
    "print(my_dict[\"fruit2\"])  # Output: banana\n",
    "\n",
    "\n",
    "\n",
    "\n"
   ]
  },
  {
   "cell_type": "code",
   "execution_count": 1,
   "id": "2e75c335-c088-4c07-8d2c-6e2953de36a6",
   "metadata": {},
   "outputs": [
    {
     "name": "stdout",
     "output_type": "stream",
     "text": [
      "MD TASLIM\n"
     ]
    }
   ],
   "source": [
    "#1 Write a code to create a string with your name and print it\n",
    "\n",
    "print('MD TASLIM')\n"
   ]
  },
  {
   "cell_type": "code",
   "execution_count": 7,
   "id": "4e01adcc-4293-436b-b2ff-9ee60bfb9eb2",
   "metadata": {},
   "outputs": [
    {
     "data": {
      "text/plain": [
       "11"
      ]
     },
     "execution_count": 7,
     "metadata": {},
     "output_type": "execute_result"
    }
   ],
   "source": [
    "#2  Write a code to find the length of the string \"Hello World\n",
    "\n",
    "len('hello world')"
   ]
  },
  {
   "cell_type": "code",
   "execution_count": 17,
   "id": "0afb7d86-54c8-44d2-ad1a-abd95ba72893",
   "metadata": {},
   "outputs": [
    {
     "name": "stdout",
     "output_type": "stream",
     "text": [
      "Pyt\n"
     ]
    }
   ],
   "source": [
    "#3 Write a code to slice the first 3 characters from the string \"Python Programming\"\n",
    "text = 'Python Programming'\n",
    "print(text[slice(3)])"
   ]
  },
  {
   "cell_type": "code",
   "execution_count": 21,
   "id": "edf95da7-677c-4d74-831a-4f50eef0b8d7",
   "metadata": {},
   "outputs": [
    {
     "data": {
      "text/plain": [
       "'HELLO'"
      ]
     },
     "execution_count": 21,
     "metadata": {},
     "output_type": "execute_result"
    }
   ],
   "source": [
    "#4 Write a code to convert the string \"hello\" to uppercase\n",
    "x = \"hello\"\n",
    "x.upper()"
   ]
  },
  {
   "cell_type": "code",
   "execution_count": 25,
   "id": "87df50ba-ac84-4dcf-aaca-77ebe0d59e8a",
   "metadata": {},
   "outputs": [
    {
     "data": {
      "text/plain": [
       "'I like orange'"
      ]
     },
     "execution_count": 25,
     "metadata": {},
     "output_type": "execute_result"
    }
   ],
   "source": [
    "#5  Write a code to replace the word \"apple\" with \"orange\" in the string \"I like apple\"\n",
    "\n",
    "text = \"I like apple\"\n",
    "text.replace(\"apple\", \"orange\")\n"
   ]
  },
  {
   "cell_type": "code",
   "execution_count": 27,
   "id": "489a0837-5309-45c4-983b-e265ab371239",
   "metadata": {},
   "outputs": [
    {
     "name": "stdout",
     "output_type": "stream",
     "text": [
      "[1, 2, 3, 4, 5]\n"
     ]
    }
   ],
   "source": [
    "#6 Write a code to create a list with numbers 1 to 5 and print it\n",
    "numbers = [1, 2, 3, 4, 5]\n",
    "print(numbers)"
   ]
  },
  {
   "cell_type": "code",
   "execution_count": 31,
   "id": "904fad19-ae19-42bf-b587-a0ec0876a8e1",
   "metadata": {},
   "outputs": [
    {
     "name": "stdout",
     "output_type": "stream",
     "text": [
      "[1, 2, 3, 4, 10]\n"
     ]
    }
   ],
   "source": [
    "#7 Write a code to append the number 10 to the list [1, 2, 3, 4]\n",
    "list= [1,2,3,4]\n",
    "list.append(10)\n",
    "print(list)"
   ]
  },
  {
   "cell_type": "code",
   "execution_count": 37,
   "id": "6963037c-9bb9-4999-8707-7841f40b5bdd",
   "metadata": {},
   "outputs": [
    {
     "name": "stdout",
     "output_type": "stream",
     "text": [
      "[1, 2, 4, 5]\n"
     ]
    }
   ],
   "source": [
    "#8 Write a code to remove the number 3 from the list [1, 2, 3, 4, 5]\n",
    "list = [1, 2, 3, 4, 5]\n",
    "list.remove(3)\n",
    "print(list)"
   ]
  },
  {
   "cell_type": "code",
   "execution_count": 39,
   "id": "177dd4b7-9433-4ac1-8c3a-fb094f226e2d",
   "metadata": {},
   "outputs": [
    {
     "name": "stdout",
     "output_type": "stream",
     "text": [
      "b\n"
     ]
    }
   ],
   "source": [
    "#9 Write a code to access the second element in the list ['a', 'b', 'c', 'd']\n",
    "list = ['a', 'b', 'c', 'd']\n",
    "print(list[1])"
   ]
  },
  {
   "cell_type": "code",
   "execution_count": 89,
   "id": "f8097e6f-c427-416d-a39d-8fc277840674",
   "metadata": {},
   "outputs": [
    {
     "name": "stdout",
     "output_type": "stream",
     "text": [
      "[50, 40, 30, 20, 10]\n",
      "[50, 40, 30, 20, 10]\n"
     ]
    }
   ],
   "source": [
    "#10 Write a code to reverse the list [10, 20, 30, 40, 50].\n",
    "list = [10, 20, 30, 40, 50]\n",
    "print(list[slice(-1,-6,-1)])\n",
    "list.reverse()\n",
    "print(list)\n"
   ]
  },
  {
   "cell_type": "code",
   "execution_count": 97,
   "id": "41d403cb-2b34-43ec-811c-51d35934773b",
   "metadata": {},
   "outputs": [
    {
     "name": "stdout",
     "output_type": "stream",
     "text": [
      "(100, 200, 300)\n"
     ]
    }
   ],
   "source": [
    "# 11. Write a code to create a tuple with the elements 100, 200, 300 and print it.\n",
    "\n",
    "Tuple =(100,200,300)\n",
    "print(Tuple)"
   ]
  },
  {
   "cell_type": "code",
   "execution_count": 5,
   "id": "8c776615-a1b7-4c73-bf8f-056ac6d221a2",
   "metadata": {},
   "outputs": [
    {
     "name": "stdout",
     "output_type": "stream",
     "text": [
      "green\n",
      "blue\n",
      "yellow\n"
     ]
    }
   ],
   "source": [
    "#12  Write a code to access the second-to-last element of the tuple ('red', 'green', 'blue', 'yellow')\n",
    "\n",
    "colors = ('red', 'green', 'blue', 'yellow')\n",
    "for i in colors[1:len(colors)+1]:\n",
    "    print(i)"
   ]
  },
  {
   "cell_type": "code",
   "execution_count": 7,
   "id": "e65366a8-5e1f-48f9-bc6a-a5df448c6d41",
   "metadata": {},
   "outputs": [
    {
     "data": {
      "text/plain": [
       "5"
      ]
     },
     "execution_count": 7,
     "metadata": {},
     "output_type": "execute_result"
    }
   ],
   "source": [
    "# 13. Write a code to find the minimum number in the tuple (10, 20, 5, 15).\n",
    "tup1 = (10,20,5,15)\n",
    "min(tup1)"
   ]
  },
  {
   "cell_type": "code",
   "execution_count": 15,
   "id": "77513870-2620-480f-81ae-d4977daa4f33",
   "metadata": {},
   "outputs": [
    {
     "data": {
      "text/plain": [
       "1"
      ]
     },
     "execution_count": 15,
     "metadata": {},
     "output_type": "execute_result"
    }
   ],
   "source": [
    "#14. Write a code to find the index of the element \"cat\" in the tuple ('dog', 'cat', 'rabbit').\n",
    "tup1 = ('dog', 'cat', 'rabbit')\n",
    "tup1.index(\"cat\")"
   ]
  },
  {
   "cell_type": "code",
   "execution_count": 29,
   "id": "f53a360f-f40f-47f4-8a36-a006b6ee8473",
   "metadata": {},
   "outputs": [
    {
     "name": "stdout",
     "output_type": "stream",
     "text": [
      "false\n"
     ]
    }
   ],
   "source": [
    "#15  Write a code to create a tuple containing three different fruits and check if \"kiwi\" is in it.\n",
    "fruits = (\"apple\",\"banana\",\"kiwi\")\n",
    "if \"kiwi\" in fruits:\n",
    "    print(\"kiwi is present in tuple\")\n",
    "else:\n",
    "    print(\"kiwi is not present in tuple\")"
   ]
  },
  {
   "cell_type": "code",
   "execution_count": 56,
   "id": "6b4b2348-3684-4c99-ba0d-2cd7cd9db959",
   "metadata": {},
   "outputs": [
    {
     "name": "stdout",
     "output_type": "stream",
     "text": [
      "{'c', 'a', 'b'}\n"
     ]
    }
   ],
   "source": [
    "#16. Write a code to create a set with the elements 'a', 'b', 'c' and print it.\n",
    "set1 = {'a','b','c'}\n",
    "print(set1)"
   ]
  },
  {
   "cell_type": "code",
   "execution_count": null,
   "id": "ff85e4da-98a5-496c-87ba-d95ea033d2de",
   "metadata": {},
   "outputs": [],
   "source": [
    "#17. Write a code to clear all elements from the set {1, 2, 3, 4, 5}."
   ]
  },
  {
   "cell_type": "code",
   "execution_count": 66,
   "id": "35ef734b-9711-41f7-b4f4-7a0c40222cee",
   "metadata": {},
   "outputs": [
    {
     "name": "stdout",
     "output_type": "stream",
     "text": [
      "given set {1, 2, 3, 4, 5}\n",
      "set after clear  set()\n"
     ]
    }
   ],
   "source": [
    "set1 = {1,2,3,4,5}\n",
    "print(\"given set\", set1)\n",
    "set1.clear()\n",
    "print(\"set after clear : \" , set1)"
   ]
  },
  {
   "cell_type": "code",
   "execution_count": 70,
   "id": "c5615dc7-6458-48d3-a30f-5814779839a5",
   "metadata": {},
   "outputs": [
    {
     "data": {
      "text/plain": [
       "{1, 2, 3}"
      ]
     },
     "execution_count": 70,
     "metadata": {},
     "output_type": "execute_result"
    }
   ],
   "source": [
    "#18. Write a code to remove the element 4 from the set {1, 2, 3, 4}.\n",
    "set1 = {1,2,3,4}\n",
    "set1.remove(4)\n",
    "set1"
   ]
  },
  {
   "cell_type": "code",
   "execution_count": 82,
   "id": "3e8418c1-cb61-4f25-9559-db55740b3130",
   "metadata": {},
   "outputs": [
    {
     "data": {
      "text/plain": [
       "{1, 2, 3, 4, 5}"
      ]
     },
     "execution_count": 82,
     "metadata": {},
     "output_type": "execute_result"
    }
   ],
   "source": [
    "# 19. Write a code to find the union of two sets {1, 2, 3} and {3, 4, 5}.\n",
    "set1 = {1, 2, 3}\n",
    "set2 = {3, 4, 5}\n",
    "result = set1.union(set2)\n",
    "result"
   ]
  },
  {
   "cell_type": "code",
   "execution_count": 86,
   "id": "d6bc829c-cafc-4ac5-88fe-f8020cc6d607",
   "metadata": {},
   "outputs": [
    {
     "data": {
      "text/plain": [
       "{2, 3}"
      ]
     },
     "execution_count": 86,
     "metadata": {},
     "output_type": "execute_result"
    }
   ],
   "source": [
    "#20. Write a code to find the intersection of two sets {1, 2, 3} and {2, 3, 4}.\n",
    "set1 = {1, 2, 3}\n",
    "set2 = {2, 3, 4}\n",
    "intersect = set1.intersection(set2)\n",
    "intersect"
   ]
  },
  {
   "cell_type": "code",
   "execution_count": 94,
   "id": "8da73680-0a74-4a3a-90a3-8054c830661a",
   "metadata": {},
   "outputs": [
    {
     "name": "stdout",
     "output_type": "stream",
     "text": [
      "taslim\n",
      "26\n",
      "kolkata\n"
     ]
    }
   ],
   "source": [
    "#21. Write a code to create a dictionary with the keys \"name\", \"age\", and \"city\", and print it.\n",
    "my_dict = {\"name\":\"taslim\", \"age\":26, \"city\": \"kolkata\"}\n",
    "print(my_dict[\"name\"])\n",
    "print(my_dict[\"age\"])\n",
    "print(my_dict[\"city\"])\n"
   ]
  },
  {
   "cell_type": "code",
   "execution_count": 100,
   "id": "6bbbfa22-eb7f-48f1-9e3a-06694374ffe7",
   "metadata": {},
   "outputs": [
    {
     "name": "stdout",
     "output_type": "stream",
     "text": [
      "{'name': 'John', 'age': 25, 'country': 'USA'}\n"
     ]
    }
   ],
   "source": [
    "#22. Write a code to add a new key-value pair \"country\": \"USA\" to the dictionary {'name': 'John', 'age': 25}.\n",
    "my_dict = {'name': 'John', 'age': 25}\n",
    "my_dict[\"country\"] = \"USA\"\n",
    "print(my_dict)\n"
   ]
  },
  {
   "cell_type": "code",
   "execution_count": 106,
   "id": "e3579b8d-dff2-4b19-b371-5de3e972b3a8",
   "metadata": {},
   "outputs": [
    {
     "name": "stdout",
     "output_type": "stream",
     "text": [
      "Alice\n"
     ]
    }
   ],
   "source": [
    "#23 Write a code to access the value associated with the key \"name\" in the dictionary {'name': 'Alice', 'age': 30}.\n",
    "my_dict = {'name': 'Alice', 'age': 30}\n",
    "print(my_dict['name'])"
   ]
  },
  {
   "cell_type": "code",
   "execution_count": 112,
   "id": "8c5aa23e-77e1-4580-9e88-ba3b25447221",
   "metadata": {},
   "outputs": [
    {
     "name": "stdout",
     "output_type": "stream",
     "text": [
      "{'name': 'Bob', 'city': 'New York'}\n"
     ]
    }
   ],
   "source": [
    "#24 Write a code to remove the key \"age\" from the dictionary {'name': 'Bob', 'age': 22, 'city': 'New York'}\n",
    "my_dict = {'name': 'Bob', 'age': 22, 'city': 'New York'}\n",
    "my_dict.pop('age')\n",
    "print(my_dict)"
   ]
  },
  {
   "cell_type": "code",
   "execution_count": 136,
   "id": "22574e8f-8e68-460e-9166-5ed1ba3e2841",
   "metadata": {},
   "outputs": [
    {
     "name": "stdout",
     "output_type": "stream",
     "text": [
      "key city is present\n"
     ]
    }
   ],
   "source": [
    "#25 Write a code to check if the key \"city\" exists in the dictionary {'name': 'Alice', 'city': 'Paris'}\n",
    "my_dict = {'name': 'Alice', 'city': 'Paris'}\n",
    "if 'city' in my_dict:\n",
    "    print('key city is present')\n",
    "else:\n",
    "    print('key city is not present')\n"
   ]
  },
  {
   "cell_type": "code",
   "execution_count": 138,
   "id": "47efd011-c401-46ae-aef7-f3aa890a1810",
   "metadata": {},
   "outputs": [
    {
     "name": "stdout",
     "output_type": "stream",
     "text": [
      "List: [10, 20, 30]\n",
      "Tuple: ('apple', 'banana', 'cherry')\n",
      "Dictionary: {'name': 'Alice', 'age': 25}\n"
     ]
    }
   ],
   "source": [
    "#26. Write a code to create a list, a tuple, and a dictionary, and print them all.\n",
    "# Create a list\n",
    "my_list = [10, 20, 30]\n",
    "my_tuple = ('apple', 'banana', 'cherry')\n",
    "my_dict = {'name': 'Alice', 'age': 25}\n",
    "print(\"List:\", my_list)\n",
    "print(\"Tuple:\", my_tuple)\n",
    "print(\"Dictionary:\", my_dict)"
   ]
  },
  {
   "cell_type": "code",
   "execution_count": null,
   "id": "08f641d3-a3d8-4dab-a6dc-feaafaa22cc4",
   "metadata": {},
   "outputs": [],
   "source": [
    "# 27. Write a code to create a list of 5 random numbers between 1 and 100, sort it in ascending order, and print the result.(replaced)"
   ]
  },
  {
   "cell_type": "code",
   "execution_count": 144,
   "id": "eca61ee4-c032-4ff5-b871-20c864280605",
   "metadata": {},
   "outputs": [
    {
     "name": "stdout",
     "output_type": "stream",
     "text": [
      "[18, 32, 55, 63, 95]\n"
     ]
    }
   ],
   "source": [
    "my_list = [55,32,18,95,63]\n",
    "my_list.sort()\n",
    "print(my_list)"
   ]
  },
  {
   "cell_type": "code",
   "execution_count": 146,
   "id": "5274aa8c-5430-4847-a999-a97695deb6d9",
   "metadata": {},
   "outputs": [
    {
     "name": "stdout",
     "output_type": "stream",
     "text": [
      "Element at third index: mango\n"
     ]
    }
   ],
   "source": [
    "#28. Write a code to create a list with strings and print the element at the third index.\n",
    "fruits = [\"apple\", \"banana\", \"cherry\", \"mango\", \"orange\"]\n",
    "print(\"Element at third index:\", fruits[3])"
   ]
  },
  {
   "cell_type": "code",
   "execution_count": 152,
   "id": "ff76f18c-8309-4f84-90e6-71fa3cb4fa33",
   "metadata": {},
   "outputs": [
    {
     "name": "stdout",
     "output_type": "stream",
     "text": [
      "Combined dictionary: {'a': 1, 'b': 2, 'c': 3, 'd': 4}\n"
     ]
    }
   ],
   "source": [
    "#29. Write a code to combine two dictionaries into one and print the result.\n",
    "dict1 = {'a': 1, 'b': 2}\n",
    "dict2 = {'c': 3, 'd': 4}\n",
    "combined_dict = {**dict1, **dict2}\n",
    "print(\"Combined dictionary:\", combined_dict)\n"
   ]
  },
  {
   "cell_type": "code",
   "execution_count": 154,
   "id": "130aff6d-3fde-491c-ac4c-1d09941004d1",
   "metadata": {},
   "outputs": [
    {
     "name": "stdout",
     "output_type": "stream",
     "text": [
      "Set from list: {'banana', 'apple', 'cherry'}\n"
     ]
    }
   ],
   "source": [
    "#30. Write a code to convert a list of strings into a set.\n",
    "string_list = [\"apple\", \"banana\", \"cherry\", \"apple\"]\n",
    "string_set = set(string_list)\n",
    "print(\"Set from list:\", string_set)"
   ]
  },
  {
   "cell_type": "code",
   "execution_count": null,
   "id": "a3db2e39-395a-4b4f-b007-95396d3f374c",
   "metadata": {},
   "outputs": [],
   "source": []
  },
  {
   "cell_type": "code",
   "execution_count": null,
   "id": "298c75fe-ae09-4775-a9e3-0fc52f6bb8bf",
   "metadata": {},
   "outputs": [],
   "source": []
  },
  {
   "cell_type": "code",
   "execution_count": null,
   "id": "7e6c4c02-ca45-4b91-880c-112ad4282e24",
   "metadata": {},
   "outputs": [],
   "source": []
  },
  {
   "cell_type": "code",
   "execution_count": null,
   "id": "e9f31643-f9de-4726-ba85-d4ac9d03a5f6",
   "metadata": {},
   "outputs": [],
   "source": []
  },
  {
   "cell_type": "code",
   "execution_count": null,
   "id": "6eab07c6-1061-41d8-94ca-8393ad9a14b6",
   "metadata": {},
   "outputs": [],
   "source": []
  },
  {
   "cell_type": "code",
   "execution_count": null,
   "id": "0823feb8-4f53-45f4-bfc1-15e69075d950",
   "metadata": {},
   "outputs": [],
   "source": []
  },
  {
   "cell_type": "code",
   "execution_count": null,
   "id": "112ab8b8-00ee-4c05-9d2b-187a4f1199bf",
   "metadata": {},
   "outputs": [],
   "source": []
  },
  {
   "cell_type": "code",
   "execution_count": null,
   "id": "33fd7014-54fb-4105-9232-372dca4889b8",
   "metadata": {},
   "outputs": [],
   "source": []
  },
  {
   "cell_type": "code",
   "execution_count": null,
   "id": "29fd52dd-9b9d-4f77-8621-b11fdee4f8c3",
   "metadata": {},
   "outputs": [],
   "source": []
  },
  {
   "cell_type": "code",
   "execution_count": null,
   "id": "817fceb0-62ce-4aa9-b6af-b6da1595ebc8",
   "metadata": {},
   "outputs": [],
   "source": []
  },
  {
   "cell_type": "code",
   "execution_count": null,
   "id": "268c113d-d9c8-4dcb-b2e1-22b228e6feb2",
   "metadata": {},
   "outputs": [],
   "source": []
  },
  {
   "cell_type": "code",
   "execution_count": null,
   "id": "9b7a43c2-c8e9-42b1-a195-8db006e90c64",
   "metadata": {},
   "outputs": [],
   "source": []
  },
  {
   "cell_type": "code",
   "execution_count": null,
   "id": "a0a80127-a142-4f0d-9f3c-33fc94a18259",
   "metadata": {},
   "outputs": [],
   "source": []
  },
  {
   "cell_type": "code",
   "execution_count": 15,
   "id": "530bc119-8b4e-402d-98eb-49e91a3195f9",
   "metadata": {},
   "outputs": [
    {
     "name": "stdout",
     "output_type": "stream",
     "text": [
      "Pyt\n"
     ]
    }
   ],
   "source": []
  },
  {
   "cell_type": "code",
   "execution_count": null,
   "id": "fb3427d6-9e6c-447c-9731-f257546e306c",
   "metadata": {},
   "outputs": [],
   "source": []
  },
  {
   "cell_type": "code",
   "execution_count": null,
   "id": "29de00f4-819d-4436-8283-846557aadf60",
   "metadata": {},
   "outputs": [],
   "source": []
  },
  {
   "cell_type": "code",
   "execution_count": null,
   "id": "c83c9439-acd7-47f8-b66d-22e2b1bf6593",
   "metadata": {},
   "outputs": [],
   "source": []
  },
  {
   "cell_type": "code",
   "execution_count": null,
   "id": "efdcaea6-fd7b-40b5-ba08-1b9f3ee0c420",
   "metadata": {},
   "outputs": [],
   "source": []
  },
  {
   "cell_type": "code",
   "execution_count": null,
   "id": "7a646c9e-9f51-4458-8cb3-fe9bcf55c80e",
   "metadata": {},
   "outputs": [],
   "source": []
  }
 ],
 "metadata": {
  "kernelspec": {
   "display_name": "Python [conda env:base] *",
   "language": "python",
   "name": "conda-base-py"
  },
  "language_info": {
   "codemirror_mode": {
    "name": "ipython",
    "version": 3
   },
   "file_extension": ".py",
   "mimetype": "text/x-python",
   "name": "python",
   "nbconvert_exporter": "python",
   "pygments_lexer": "ipython3",
   "version": "3.12.7"
  }
 },
 "nbformat": 4,
 "nbformat_minor": 5
}
